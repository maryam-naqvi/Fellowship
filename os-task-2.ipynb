{
 "cells": [
  {
   "cell_type": "code",
   "execution_count": 1,
   "id": "fa078444",
   "metadata": {
    "_cell_guid": "b1076dfc-b9ad-4769-8c92-a6c4dae69d19",
    "_uuid": "8f2839f25d086af736a60e9eeb907d3b93b6e0e5",
    "execution": {
     "iopub.execute_input": "2025-03-14T01:01:38.066377Z",
     "iopub.status.busy": "2025-03-14T01:01:38.066036Z",
     "iopub.status.idle": "2025-03-14T01:01:39.211690Z",
     "shell.execute_reply": "2025-03-14T01:01:39.210233Z"
    },
    "papermill": {
     "duration": 1.151975,
     "end_time": "2025-03-14T01:01:39.214142",
     "exception": false,
     "start_time": "2025-03-14T01:01:38.062167",
     "status": "completed"
    },
    "tags": []
   },
   "outputs": [],
   "source": [
    "# This Python 3 environment comes with many helpful analytics libraries installed\n",
    "# It is defined by the kaggle/python Docker image: https://github.com/kaggle/docker-python\n",
    "# For example, here's several helpful packages to load\n",
    "\n",
    "import numpy as np # linear algebra\n",
    "import pandas as pd # data processing, CSV file I/O (e.g. pd.read_csv)\n",
    "\n",
    "# Input data files are available in the read-only \"../input/\" directory\n",
    "# For example, running this (by clicking run or pressing Shift+Enter) will list all files under the input directory\n",
    "\n",
    "import os\n",
    "for dirname, _, filenames in os.walk('/kaggle/input'):\n",
    "    for filename in filenames:\n",
    "        print(os.path.join(dirname, filename))\n",
    "\n",
    "# You can write up to 20GB to the current directory (/kaggle/working/) that gets preserved as output when you create a version using \"Save & Run All\" \n",
    "# You can also write temporary files to /kaggle/temp/, but they won't be saved outside of the current session"
   ]
  },
  {
   "cell_type": "code",
   "execution_count": 2,
   "id": "abf160b1",
   "metadata": {
    "execution": {
     "iopub.execute_input": "2025-03-14T01:01:39.219675Z",
     "iopub.status.busy": "2025-03-14T01:01:39.219188Z",
     "iopub.status.idle": "2025-03-14T01:01:39.237210Z",
     "shell.execute_reply": "2025-03-14T01:01:39.235880Z"
    },
    "papermill": {
     "duration": 0.022851,
     "end_time": "2025-03-14T01:01:39.239067",
     "exception": false,
     "start_time": "2025-03-14T01:01:39.216216",
     "status": "completed"
    },
    "tags": []
   },
   "outputs": [
    {
     "name": "stdout",
     "output_type": "stream",
     "text": [
      "Mean: 3.7142857142857144\n",
      "Median: 4\n",
      "Mode: [5]\n",
      "Variance: 2.7755102040816326\n",
      "Standard Deviation: 1.6659862556700857\n",
      "Euclidean Distance (5,10): 5\n",
      "Sigmoid of 0: 0.5\n"
     ]
    }
   ],
   "source": [
    "def mean(numbers):\n",
    "    total = 0\n",
    "    count = 0\n",
    "    for num in numbers:\n",
    "        total = total + num\n",
    "        count = count + 1\n",
    "    return total / count\n",
    "\n",
    "def median(numbers):\n",
    "    numbers.sort()\n",
    "    length = 0\n",
    "    for num in numbers:\n",
    "        length = length + 1\n",
    "    middle = length // 2\n",
    "    if length % 2 == 0:\n",
    "        return (numbers[middle - 1] + numbers[middle]) / 2\n",
    "    else:\n",
    "        return numbers[middle]\n",
    "\n",
    "def mode(numbers):\n",
    "    count_dict = {}\n",
    "    for num in numbers:\n",
    "        if num in count_dict:\n",
    "            count_dict[num] = count_dict[num] + 1\n",
    "        else:\n",
    "            count_dict[num] = 1\n",
    "    max_count = 0\n",
    "    mode_value = []\n",
    "    for key in count_dict:\n",
    "        if count_dict[key] > max_count:\n",
    "            max_count = count_dict[key]\n",
    "            mode_value = [key]\n",
    "        elif count_dict[key] == max_count:\n",
    "            mode_value.append(key)\n",
    "    return mode_value\n",
    "\n",
    "def variance(numbers):\n",
    "    m = mean(numbers)\n",
    "    total = 0\n",
    "    count = 0\n",
    "    for num in numbers:\n",
    "        total = total + (num - m) * (num - m)\n",
    "        count = count + 1\n",
    "    return total / count\n",
    "\n",
    "def standard_deviation(numbers):\n",
    "    return variance(numbers) ** 0.5\n",
    "\n",
    "def euclidean_distance(a, b):\n",
    "    if type(a) == list and type(b) == list:\n",
    "        total = 0\n",
    "        i = 0\n",
    "        while i < len(a):\n",
    "            total = total + (a[i] - b[i]) * (a[i] - b[i])\n",
    "            i = i + 1\n",
    "        return total ** 0.5\n",
    "    else:\n",
    "        return abs(a - b)\n",
    "\n",
    "def sigmoid(x):\n",
    "    return 1 / (1 + (2.71828 ** -x))\n",
    "\n",
    "# Example usage:\n",
    "numbers = [1, 2, 3, 4, 5, 5, 6]\n",
    "print(\"Mean:\", mean(numbers))\n",
    "print(\"Median:\", median(numbers))\n",
    "print(\"Mode:\", mode(numbers))\n",
    "print(\"Variance:\", variance(numbers))\n",
    "print(\"Standard Deviation:\", standard_deviation(numbers))\n",
    "print(\"Euclidean Distance (5,10):\", euclidean_distance(5, 10))\n",
    "print(\"Sigmoid of 0:\", sigmoid(0))\n"
   ]
  }
 ],
 "metadata": {
  "kaggle": {
   "accelerator": "none",
   "dataSources": [],
   "dockerImageVersionId": 30918,
   "isGpuEnabled": false,
   "isInternetEnabled": false,
   "language": "python",
   "sourceType": "notebook"
  },
  "kernelspec": {
   "display_name": "Python 3",
   "language": "python",
   "name": "python3"
  },
  "language_info": {
   "codemirror_mode": {
    "name": "ipython",
    "version": 3
   },
   "file_extension": ".py",
   "mimetype": "text/x-python",
   "name": "python",
   "nbconvert_exporter": "python",
   "pygments_lexer": "ipython3",
   "version": "3.10.12"
  },
  "papermill": {
   "default_parameters": {},
   "duration": 4.972665,
   "end_time": "2025-03-14T01:01:39.862333",
   "environment_variables": {},
   "exception": null,
   "input_path": "__notebook__.ipynb",
   "output_path": "__notebook__.ipynb",
   "parameters": {},
   "start_time": "2025-03-14T01:01:34.889668",
   "version": "2.6.0"
  }
 },
 "nbformat": 4,
 "nbformat_minor": 5
}
